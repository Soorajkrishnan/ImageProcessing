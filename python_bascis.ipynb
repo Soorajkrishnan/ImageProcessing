{
  "nbformat": 4,
  "nbformat_minor": 0,
  "metadata": {
    "colab": {
      "name": "python_bascis.ipynb",
      "provenance": [],
      "collapsed_sections": [],
      "include_colab_link": true
    },
    "kernelspec": {
      "name": "python3",
      "display_name": "Python 3"
    },
    "accelerator": "GPU"
  },
  "cells": [
    {
      "cell_type": "markdown",
      "metadata": {
        "id": "view-in-github",
        "colab_type": "text"
      },
      "source": [
        "<a href=\"https://colab.research.google.com/github/Soorajkrishnan/ImageProcessing/blob/master/python_bascis.ipynb\" target=\"_parent\"><img src=\"https://colab.research.google.com/assets/colab-badge.svg\" alt=\"Open In Colab\"/></a>"
      ]
    },
    {
      "cell_type": "code",
      "metadata": {
        "id": "KspvAGgRiU4o",
        "colab_type": "code",
        "colab": {
          "base_uri": "https://localhost:8080/",
          "height": 35
        },
        "outputId": "34e5c006-e136-4c51-d835-073d3f85bca1"
      },
      "source": [
        "print('Hello world')"
      ],
      "execution_count": 1,
      "outputs": [
        {
          "output_type": "stream",
          "text": [
            "Hello world\n"
          ],
          "name": "stdout"
        }
      ]
    },
    {
      "cell_type": "markdown",
      "metadata": {
        "id": "BgE2vG7Tid9D",
        "colab_type": "text"
      },
      "source": [
        "Ctrl+Enter : Single execution.\n",
        "Shift+Enter : Execute and move to next line."
      ]
    },
    {
      "cell_type": "code",
      "metadata": {
        "id": "CKmdzv2xjVTS",
        "colab_type": "code",
        "colab": {
          "base_uri": "https://localhost:8080/",
          "height": 35
        },
        "outputId": "03cdedf7-0bec-47df-e4e4-b608e18362af"
      },
      "source": [
        "a=100\n",
        "b=200\n",
        "c=a+b\n",
        "print('The sum is',c)\n"
      ],
      "execution_count": 3,
      "outputs": [
        {
          "output_type": "stream",
          "text": [
            "The sum is 300\n"
          ],
          "name": "stdout"
        }
      ]
    },
    {
      "cell_type": "code",
      "metadata": {
        "id": "7kHwACRijl17",
        "colab_type": "code",
        "colab": {}
      },
      "source": [
        ""
      ],
      "execution_count": 0,
      "outputs": []
    },
    {
      "cell_type": "markdown",
      "metadata": {
        "id": "ObS1crj7kQ1k",
        "colab_type": "text"
      },
      "source": [
        "**Numeric**: Float,Integer,Complex\n"
      ]
    },
    {
      "cell_type": "code",
      "metadata": {
        "id": "pbxKTtDkkc6C",
        "colab_type": "code",
        "colab": {
          "base_uri": "https://localhost:8080/",
          "height": 72
        },
        "outputId": "19708786-1ea5-46a0-84d0-125a99ff1862"
      },
      "source": [
        "a=10\n",
        "b=20.34\n",
        "print(type(a))\n",
        "print(type(b))\n",
        "int(b)\n"
      ],
      "execution_count": 8,
      "outputs": [
        {
          "output_type": "stream",
          "text": [
            "<class 'int'>\n",
            "<class 'float'>\n"
          ],
          "name": "stdout"
        },
        {
          "output_type": "execute_result",
          "data": {
            "text/plain": [
              "20"
            ]
          },
          "metadata": {
            "tags": []
          },
          "execution_count": 8
        }
      ]
    },
    {
      "cell_type": "markdown",
      "metadata": {
        "id": "fFMsOchDlQi4",
        "colab_type": "text"
      },
      "source": [
        "**List**: Any data values can be stored. Uses [ ](square braces) with values separated by ''(Qoutes) and ,(Comma). Values are referenced by index.\n"
      ]
    },
    {
      "cell_type": "code",
      "metadata": {
        "id": "LqPpHPG0lRWc",
        "colab_type": "code",
        "colab": {
          "base_uri": "https://localhost:8080/",
          "height": 90
        },
        "outputId": "163be2a0-1a57-463c-f30d-9cfda9afc0c8"
      },
      "source": [
        "subject=['ds','ml','sc',1,True]\n",
        "print(type(subject))\n",
        "print(subject)\n",
        "subject[0:3] #from zero to three: 0 to n-1\n",
        "subject[2]='kk' #Overwriting value in postition 2\n",
        "del subject[1] #delete the value\n",
        "print(len(subject))\n",
        "subject\n",
        "subject*2 #repeating values in  list no overwriting\n",
        "subject[::-1] #reverse"
      ],
      "execution_count": 30,
      "outputs": [
        {
          "output_type": "stream",
          "text": [
            "<class 'list'>\n",
            "['ds', 'ml', 'sc', 1, True]\n",
            "4\n"
          ],
          "name": "stdout"
        },
        {
          "output_type": "execute_result",
          "data": {
            "text/plain": [
              "[True, 1, 'kk', 'ds']"
            ]
          },
          "metadata": {
            "tags": []
          },
          "execution_count": 30
        }
      ]
    },
    {
      "cell_type": "markdown",
      "metadata": {
        "id": "DylgT59HpUT6",
        "colab_type": "text"
      },
      "source": [
        "**Tuple** : Non changable list like structure. Any data values can be stored. Uses ( )(sea braces) with values separated by ''(Qoutes) and ,(Comma). Values are referenced by index. Values cannot be inserted after declaration."
      ]
    },
    {
      "cell_type": "code",
      "metadata": {
        "id": "lFqdDTc2psk3",
        "colab_type": "code",
        "colab": {}
      },
      "source": [
        "tup=('one','1','two','True')  "
      ],
      "execution_count": 0,
      "outputs": []
    },
    {
      "cell_type": "markdown",
      "metadata": {
        "id": "GGYwiAT4qJgx",
        "colab_type": "text"
      },
      "source": [
        "**String**"
      ]
    },
    {
      "cell_type": "code",
      "metadata": {
        "id": "fN_jYoFOp3J8",
        "colab_type": "code",
        "colab": {
          "base_uri": "https://localhost:8080/",
          "height": 127
        },
        "outputId": "f4948a1f-8b50-4827-e4e0-f1dbd875567e"
      },
      "source": [
        "a='Hello World'\n",
        "print(len(a)) #printing length\n",
        "print(a.index('d'))#find the postion of letter d in string a\n",
        "print(a.count('l'))#find the count of letter l\n",
        "print(a[::-1]) #reverse works on string too.\n",
        "print(a.upper()) #toUppercase\n",
        "print(a.lower()) #toLowercase\n"
      ],
      "execution_count": 42,
      "outputs": [
        {
          "output_type": "stream",
          "text": [
            "11\n",
            "10\n",
            "3\n",
            "dlroW olleH\n",
            "HELLO WORLD\n",
            "hello world\n"
          ],
          "name": "stdout"
        }
      ]
    },
    {
      "cell_type": "markdown",
      "metadata": {
        "id": "N3iB2VEQsMAk",
        "colab_type": "text"
      },
      "source": [
        "**Sets** : Unordered collection of Unique elements.  Uses { }(curly braces) with values separated by ''(Qoutes) and ,(Comma)."
      ]
    },
    {
      "cell_type": "code",
      "metadata": {
        "id": "19tYsi_aqSWO",
        "colab_type": "code",
        "colab": {
          "base_uri": "https://localhost:8080/",
          "height": 90
        },
        "outputId": "2a370586-810d-4f55-c026-7330b0a23f0d"
      },
      "source": [
        "a={1,2,3,4,5,6,7}\n",
        "b={1,2,2,3,3,4}\n",
        "print(b)#repeated values are removed\n",
        "print(a|b)#a Union b: Merging elements and ommitting repeated values\n",
        "print(a & b)#Intersection:repeated values\n",
        "print(a-b)#Difference:non repeated values"
      ],
      "execution_count": 56,
      "outputs": [
        {
          "output_type": "stream",
          "text": [
            "{1, 2, 3, 4}\n",
            "{1, 2, 3, 4, 5, 6, 7}\n",
            "{1, 2, 3, 4}\n",
            "{5, 6, 7}\n"
          ],
          "name": "stdout"
        }
      ]
    },
    {
      "cell_type": "markdown",
      "metadata": {
        "id": "jVMW6w4ZuUtY",
        "colab_type": "text"
      },
      "source": [
        "**Dictionary**: key pair element. {key:element1 element2, key2: element3 element4}"
      ]
    },
    {
      "cell_type": "code",
      "metadata": {
        "id": "mu9vRxagsoCq",
        "colab_type": "code",
        "colab": {
          "base_uri": "https://localhost:8080/",
          "height": 35
        },
        "outputId": "010ff648-f034-4546-b751-ebbac0faf264"
      },
      "source": [
        "d={'name':'Abhinav','Age':21}\n",
        "print(d['name'])#in square braces. accessing element by the key\n",
        "sclass={'Ref No': '1001' '1110' '1111' '0001' '1010' '0001' '0101','Name': 'Abhinav''Ashil''Anandhu''Anand''Shameem''Sooraj'}"
      ],
      "execution_count": 65,
      "outputs": [
        {
          "output_type": "stream",
          "text": [
            "Abhinav\n"
          ],
          "name": "stdout"
        }
      ]
    },
    {
      "cell_type": "markdown",
      "metadata": {
        "id": "-aYgCLJVxCsk",
        "colab_type": "text"
      },
      "source": [
        "**Arithamatic operators**\n"
      ]
    },
    {
      "cell_type": "code",
      "metadata": {
        "id": "S4PiV3_3vrbO",
        "colab_type": "code",
        "colab": {
          "base_uri": "https://localhost:8080/",
          "height": 127
        },
        "outputId": "8a4c04b6-220f-432b-92b7-0c2574ef395f"
      },
      "source": [
        "a=100\n",
        "b=200\n",
        "print(a+b)\n",
        "print(b-a)\n",
        "print(a*b)\n",
        "print(a/b)\n",
        "print(a%b)\n",
        "print(a**2)\n"
      ],
      "execution_count": 67,
      "outputs": [
        {
          "output_type": "stream",
          "text": [
            "300\n",
            "100\n",
            "20000\n",
            "0.5\n",
            "100\n",
            "10000\n"
          ],
          "name": "stdout"
        }
      ]
    },
    {
      "cell_type": "markdown",
      "metadata": {
        "id": "urloz579xmQh",
        "colab_type": "text"
      },
      "source": [
        "**Comparison Operators**"
      ]
    },
    {
      "cell_type": "code",
      "metadata": {
        "id": "5aMX8dtuxbq6",
        "colab_type": "code",
        "colab": {
          "base_uri": "https://localhost:8080/",
          "height": 35
        },
        "outputId": "bb3bb107-bf27-4295-f9ae-b32a4b1c188a"
      },
      "source": [
        "if(a>b):\n",
        "  print('A is bigger')\n",
        "elif(b>a):\n",
        "  print('B is bigger')\n",
        "elif(a==b):\n",
        "  print(\"A & B are equal\")\n",
        "elif(a!=b):\n",
        "  print(\"A is Not equal to B\")\n",
        "else:\n",
        "  print(\":)\")"
      ],
      "execution_count": 74,
      "outputs": [
        {
          "output_type": "stream",
          "text": [
            "B is bigger\n"
          ],
          "name": "stdout"
        }
      ]
    },
    {
      "cell_type": "code",
      "metadata": {
        "id": "Xy_0T0Qwx4cK",
        "colab_type": "code",
        "colab": {}
      },
      "source": [
        ""
      ],
      "execution_count": 0,
      "outputs": []
    }
  ]
}