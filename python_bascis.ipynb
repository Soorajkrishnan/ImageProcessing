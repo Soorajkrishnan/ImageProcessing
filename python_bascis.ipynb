{
  "nbformat": 4,
  "nbformat_minor": 0,
  "metadata": {
    "colab": {
      "name": "python_bascis.ipynb",
      "provenance": [],
      "collapsed_sections": [],
      "include_colab_link": true
    },
    "kernelspec": {
      "name": "python3",
      "display_name": "Python 3"
    },
    "accelerator": "GPU"
  },
  "cells": [
    {
      "cell_type": "markdown",
      "metadata": {
        "id": "view-in-github",
        "colab_type": "text"
      },
      "source": [
        "<a href=\"https://colab.research.google.com/github/Soorajkrishnan/ImageProcessing/blob/master/python_bascis.ipynb\" target=\"_parent\"><img src=\"https://colab.research.google.com/assets/colab-badge.svg\" alt=\"Open In Colab\"/></a>"
      ]
    },
    {
      "cell_type": "code",
      "metadata": {
        "id": "KspvAGgRiU4o",
        "colab_type": "code",
        "colab": {
          "base_uri": "https://localhost:8080/",
          "height": 35
        },
        "outputId": "34e5c006-e136-4c51-d835-073d3f85bca1"
      },
      "source": [
        "print('Hello world')"
      ],
      "execution_count": 1,
      "outputs": [
        {
          "output_type": "stream",
          "text": [
            "Hello world\n"
          ],
          "name": "stdout"
        }
      ]
    },
    {
      "cell_type": "markdown",
      "metadata": {
        "id": "BgE2vG7Tid9D",
        "colab_type": "text"
      },
      "source": [
        "Ctrl+Enter : Single execution.\n",
        "Shift+Enter : Execute and move to next line."
      ]
    },
    {
      "cell_type": "code",
      "metadata": {
        "id": "CKmdzv2xjVTS",
        "colab_type": "code",
        "colab": {
          "base_uri": "https://localhost:8080/",
          "height": 35
        },
        "outputId": "03cdedf7-0bec-47df-e4e4-b608e18362af"
      },
      "source": [
        "a=100\n",
        "b=200\n",
        "c=a+b\n",
        "print('The sum is',c)\n"
      ],
      "execution_count": 3,
      "outputs": [
        {
          "output_type": "stream",
          "text": [
            "The sum is 300\n"
          ],
          "name": "stdout"
        }
      ]
    },
    {
      "cell_type": "code",
      "metadata": {
        "id": "7kHwACRijl17",
        "colab_type": "code",
        "colab": {}
      },
      "source": [
        ""
      ],
      "execution_count": 0,
      "outputs": []
    },
    {
      "cell_type": "markdown",
      "metadata": {
        "id": "ObS1crj7kQ1k",
        "colab_type": "text"
      },
      "source": [
        "Numeric Datatype\n",
        ": Float,Integer,Complex\n"
      ]
    },
    {
      "cell_type": "code",
      "metadata": {
        "id": "pbxKTtDkkc6C",
        "colab_type": "code",
        "colab": {
          "base_uri": "https://localhost:8080/",
          "height": 72
        },
        "outputId": "19708786-1ea5-46a0-84d0-125a99ff1862"
      },
      "source": [
        "a=10\n",
        "b=20.34\n",
        "print(type(a))\n",
        "print(type(b))\n",
        "int(b)\n"
      ],
      "execution_count": 8,
      "outputs": [
        {
          "output_type": "stream",
          "text": [
            "<class 'int'>\n",
            "<class 'float'>\n"
          ],
          "name": "stdout"
        },
        {
          "output_type": "execute_result",
          "data": {
            "text/plain": [
              "20"
            ]
          },
          "metadata": {
            "tags": []
          },
          "execution_count": 8
        }
      ]
    },
    {
      "cell_type": "markdown",
      "metadata": {
        "id": "fFMsOchDlQi4",
        "colab_type": "text"
      },
      "source": [
        "**List**: Any data values can be stored. Uses [ ](square braces) with values separated by ''(Qoutes) and ,(Comma). Values are referenced by index.\n"
      ]
    },
    {
      "cell_type": "code",
      "metadata": {
        "id": "LqPpHPG0lRWc",
        "colab_type": "code",
        "colab": {
          "base_uri": "https://localhost:8080/",
          "height": 72
        },
        "outputId": "f865ca31-b00f-42b5-977d-8234fa47190d"
      },
      "source": [
        "subject=['ds','ml','sc',1,True]\n",
        "print(type(subject))\n",
        "print(subject)\n",
        "subject[0:3] #from zero to three: 0 to n-1"
      ],
      "execution_count": 14,
      "outputs": [
        {
          "output_type": "stream",
          "text": [
            "<class 'list'>\n",
            "['ds', 'ml', 'sc', 1, True]\n"
          ],
          "name": "stdout"
        },
        {
          "output_type": "execute_result",
          "data": {
            "text/plain": [
              "['ds', 'ml', 'sc']"
            ]
          },
          "metadata": {
            "tags": []
          },
          "execution_count": 14
        }
      ]
    },
    {
      "cell_type": "code",
      "metadata": {
        "id": "TWQRxiOxl4ug",
        "colab_type": "code",
        "colab": {}
      },
      "source": [
        ""
      ],
      "execution_count": 0,
      "outputs": []
    }
  ]
}