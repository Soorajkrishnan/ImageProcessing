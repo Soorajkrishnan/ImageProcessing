{
  "nbformat": 4,
  "nbformat_minor": 0,
  "metadata": {
    "colab": {
      "name": "numpy_basics.ipynb",
      "provenance": [],
      "collapsed_sections": [],
      "include_colab_link": true
    },
    "kernelspec": {
      "name": "python3",
      "display_name": "Python 3"
    },
    "accelerator": "TPU"
  },
  "cells": [
    {
      "cell_type": "markdown",
      "metadata": {
        "id": "view-in-github",
        "colab_type": "text"
      },
      "source": [
        "<a href=\"https://colab.research.google.com/github/Soorajkrishnan/ImageProcessing/blob/master/numpy_basics.ipynb\" target=\"_parent\"><img src=\"https://colab.research.google.com/assets/colab-badge.svg\" alt=\"Open In Colab\"/></a>"
      ]
    },
    {
      "cell_type": "markdown",
      "metadata": {
        "id": "Tak-8ABM5t_6",
        "colab_type": "text"
      },
      "source": [
        "#NUMPY\n",
        "---\n",
        "  \n",
        "\n",
        "\n"
      ]
    },
    {
      "cell_type": "code",
      "metadata": {
        "id": "48ZcEHDV5oa1",
        "colab_type": "code",
        "colab": {}
      },
      "source": [
        "import numpy as np"
      ],
      "execution_count": 0,
      "outputs": []
    },
    {
      "cell_type": "code",
      "metadata": {
        "id": "okhPF2Py6y5z",
        "colab_type": "code",
        "colab": {
          "base_uri": "https://localhost:8080/",
          "height": 54
        },
        "outputId": "3fdcc0d6-7716-47c9-c46a-6850b323a59a"
      },
      "source": [
        "a=np.array([(1,2,3,4),(5,6,7,8)])\n",
        "print(a)#numpy.ndarray()"
      ],
      "execution_count": 11,
      "outputs": [
        {
          "output_type": "stream",
          "text": [
            "[[1 2 3 4]\n",
            " [5 6 7 8]]\n"
          ],
          "name": "stdout"
        }
      ]
    },
    {
      "cell_type": "markdown",
      "metadata": {
        "id": "qo7o_3-L8X9n",
        "colab_type": "text"
      },
      "source": [
        "##Numpy Functions"
      ]
    },
    {
      "cell_type": "code",
      "metadata": {
        "id": "j07IjRte7WQC",
        "colab_type": "code",
        "colab": {
          "base_uri": "https://localhost:8080/",
          "height": 182
        },
        "outputId": "5b43688c-d3c0-4092-fb87-9ae352bb93e8"
      },
      "source": [
        "print(a.ndim)#Dimention\n",
        "print(a.itemsize)#number of values\n",
        "print(a.dtype)#find the data type (os 64bit)\n",
        "print(a.size)#total values(count)\n",
        "print(a.shape)#number of rows and columns(Row,Column)\n"
      ],
      "execution_count": 18,
      "outputs": [
        {
          "output_type": "stream",
          "text": [
            "2\n",
            "8\n",
            "int64\n",
            "8\n",
            "(2, 4)\n"
          ],
          "name": "stdout"
        },
        {
          "output_type": "execute_result",
          "data": {
            "text/plain": [
              "array([[1, 2],\n",
              "       [3, 4],\n",
              "       [5, 6],\n",
              "       [7, 8]])"
            ]
          },
          "metadata": {
            "tags": []
          },
          "execution_count": 18
        }
      ]
    },
    {
      "cell_type": "markdown",
      "metadata": {
        "id": "USm1OLrw9onh",
        "colab_type": "text"
      },
      "source": [
        "Reshape: Kind of transpose"
      ]
    },
    {
      "cell_type": "code",
      "metadata": {
        "id": "ZZs7x7Ud8q15",
        "colab_type": "code",
        "colab": {
          "base_uri": "https://localhost:8080/",
          "height": 90
        },
        "outputId": "75e19a96-530e-4126-a6fa-134d41cc2cb6"
      },
      "source": [
        "b=(a.reshape(4,2))#cols to row || row to cols\n",
        "print(b)"
      ],
      "execution_count": 19,
      "outputs": [
        {
          "output_type": "stream",
          "text": [
            "[[1 2]\n",
            " [3 4]\n",
            " [5 6]\n",
            " [7 8]]\n"
          ],
          "name": "stdout"
        }
      ]
    },
    {
      "cell_type": "markdown",
      "metadata": {
        "id": "COnyJOyS-C7Q",
        "colab_type": "text"
      },
      "source": [
        "Printing"
      ]
    },
    {
      "cell_type": "code",
      "metadata": {
        "id": "vzaT1eCh9rQt",
        "colab_type": "code",
        "colab": {
          "base_uri": "https://localhost:8080/",
          "height": 109
        },
        "outputId": "a2bc755f-fac4-4cc3-f79c-b10e20792b81"
      },
      "source": [
        "print(a[0,2])#value at 0th row 2nd Col\n",
        "print(a[0:,2])#value from 0th row to 2nd Col(the second column values)\n",
        "print(a[0,0:])#values from 0 to 4(0th row)\n",
        "print(a[1,0:])#vlaues of 1st row\n",
        "print(a[0,4:2])#length:position"
      ],
      "execution_count": 44,
      "outputs": [
        {
          "output_type": "stream",
          "text": [
            "3\n",
            "[3 7]\n",
            "[1 2 3 4]\n",
            "[5 6 7 8]\n",
            "[]\n"
          ],
          "name": "stdout"
        }
      ]
    },
    {
      "cell_type": "code",
      "metadata": {
        "id": "y0EJfGHH-HAA",
        "colab_type": "code",
        "colab": {
          "base_uri": "https://localhost:8080/",
          "height": 90
        },
        "outputId": "3f2f9b56-d598-4597-9766-b6b864ace10b"
      },
      "source": [
        "a=np.linspace(1,2,20)#linspace(starting_value,ending_value,no_of_values)\n",
        "print(a)"
      ],
      "execution_count": 46,
      "outputs": [
        {
          "output_type": "stream",
          "text": [
            "[1.         1.05263158 1.10526316 1.15789474 1.21052632 1.26315789\n",
            " 1.31578947 1.36842105 1.42105263 1.47368421 1.52631579 1.57894737\n",
            " 1.63157895 1.68421053 1.73684211 1.78947368 1.84210526 1.89473684\n",
            " 1.94736842 2.        ]\n"
          ],
          "name": "stdout"
        }
      ]
    },
    {
      "cell_type": "code",
      "metadata": {
        "id": "5bFMmNC3AFn_",
        "colab_type": "code",
        "colab": {
          "base_uri": "https://localhost:8080/",
          "height": 72
        },
        "outputId": "afe5a14b-7b0c-4a05-98d5-b6219990a816"
      },
      "source": [
        "print(a.min())\n",
        "print(a.max())\n",
        "print(a.sum())"
      ],
      "execution_count": 50,
      "outputs": [
        {
          "output_type": "stream",
          "text": [
            "1.0\n",
            "2.0\n",
            "30.0\n"
          ],
          "name": "stdout"
        }
      ]
    },
    {
      "cell_type": "code",
      "metadata": {
        "id": "i-D68uLSAVPW",
        "colab_type": "code",
        "colab": {
          "base_uri": "https://localhost:8080/",
          "height": 279
        },
        "outputId": "b3976cf5-570d-4b34-8b11-6decad304767"
      },
      "source": [
        "import matplotlib.pyplot as plt\n",
        "x=np.arange(0,2*np.pi,.1)#(start,val,interval)\n",
        "y=np.sin(x)\n",
        "plt.plot(x,y)\n",
        "plt.xlabel('3*3.14')\n",
        "plt.ylabel('sin(3*3.14)')\n",
        "plt.show()"
      ],
      "execution_count": 64,
      "outputs": [
        {
          "output_type": "display_data",
          "data": {
            "image/png": "[encoded data removed]",
            "text/plain": [
              "<Figure size 432x288 with 1 Axes>"
            ]
          },
          "metadata": {
            "tags": []
          }
        }
      ]
    },
    {
      "cell_type": "code",
      "metadata": {
        "id": "M7pvyBmuBfOB",
        "colab_type": "code",
        "colab": {}
      },
      "source": [
        ""
      ],
      "execution_count": 0,
      "outputs": []
    }
  ]
}